{
  "nbformat": 4,
  "nbformat_minor": 0,
  "metadata": {
    "colab": {
      "name": "MalwareDetectFromCuckoo.ipynb",
      "provenance": [],
      "collapsed_sections": [],
      "authorship_tag": "ABX9TyNL49f9mVRJCd769LeBwEs8",
      "include_colab_link": true
    },
    "kernelspec": {
      "name": "python3",
      "display_name": "Python 3"
    },
    "accelerator": "GPU"
  },
  "cells": [
    {
      "cell_type": "markdown",
      "metadata": {
        "id": "view-in-github",
        "colab_type": "text"
      },
      "source": [
        "<a href=\"https://colab.research.google.com/github/SSockYep/DSA/blob/master/MalwareDetectFromCuckoo.ipynb\" target=\"_parent\"><img src=\"https://colab.research.google.com/assets/colab-badge.svg\" alt=\"Open In Colab\"/></a>"
      ]
    },
    {
      "cell_type": "code",
      "metadata": {
        "id": "jEfH-CpQ7qeA"
      },
      "source": [
        "import numpy as np\n",
        "import torch\n",
        "from torch import nn\n",
        "import torch.nn.functional as F\n",
        "import random\n",
        "import os\n",
        "from torchtext.data import Field, LabelField, TabularDataset, Dataset, BucketIterator\n",
        "\n"
      ],
      "execution_count": null,
      "outputs": []
    },
    {
      "cell_type": "code",
      "metadata": {
        "id": "SbRtIeSrAbrH",
        "outputId": "8717890a-6edf-4c38-ea10-2b70988f69da",
        "colab": {
          "base_uri": "https://localhost:8080/"
        }
      },
      "source": [
        "from google.colab import drive\n",
        "\n",
        "drive.mount('/content/gdrive')"
      ],
      "execution_count": null,
      "outputs": [
        {
          "output_type": "stream",
          "text": [
            "Mounted at /content/gdrive\n"
          ],
          "name": "stdout"
        }
      ]
    },
    {
      "cell_type": "code",
      "metadata": {
        "id": "5mflmMYv70_4"
      },
      "source": [
        "device = torch.device(\"cuda\" if torch.cuda.is_available() else \"cpu\")"
      ],
      "execution_count": null,
      "outputs": []
    },
    {
      "cell_type": "markdown",
      "metadata": {
        "id": "Z0tKzI2BlKqq"
      },
      "source": [
        "# 모델 설계"
      ]
    },
    {
      "cell_type": "code",
      "metadata": {
        "id": "dgCKWzwP7sAH"
      },
      "source": [
        "\n",
        "class ClassifierWithAttention(nn.Module):\n",
        "    def __init__(self, batch_size, vocab_size, embed_size, hidden_size, output_size):\n",
        "        super(ClassifierWithAttention, self).__init__()\n",
        "\n",
        "        '''\n",
        "        batch_size: size of the batch\n",
        "        vocab_size: size of vocabulary containing api name\n",
        "        embed_size: Embedding dimension\n",
        "        hidden_size: size of the hidden state of the LSTM\n",
        "        output_size: 2 = (benign, malware)\n",
        "\n",
        "        embedding: layer for embedding\n",
        "        LSTM: LSTM layer\n",
        "        out: fully connected layer\n",
        "        act: sigmoid activation function\n",
        "        '''\n",
        "        self.batch_size = batch_size\n",
        "        self.vocab_size = vocab_size\n",
        "        self.embed_size = embed_size\n",
        "        self.hidden_size = hidden_size\n",
        "        self.output_size = output_size\n",
        "\n",
        "        self.embedding = nn.Embedding(self.vocab_size, self.embed_size)\n",
        "        self.lstm = nn.LSTM(\n",
        "            self.embed_size, self.hidden_size)\n",
        "        self.out = nn.Linear(self.hidden_size, self.output_size)\n",
        "        self.act = nn.Sigmoid()\n",
        "\n",
        "    def attention_net(self, lstm_output, final_state):\n",
        "        '''\n",
        "        lstm_output: (batch_size, num_seq, hidden_size)\n",
        "        hidden: (batch_size, hidden_size, 1)\n",
        "\n",
        "        compute attention weight by batch matrix multiplication of lstm_output and hidden\n",
        "        attn_weight: (batch_size, num_seq)\n",
        "        attn_applied: (batch_size, hidden_size)\n",
        "        \n",
        "        '''\n",
        "        hidden = final_state.view(-1, self.hidden_size, 1)\n",
        "        attn_weights = torch.bmm(lstm_output, hidden).squeeze(2)\n",
        "        attn_weights = F.softmax(attn_weights, 1)\n",
        "        attn_applied = torch.bmm(\n",
        "            lstm_output.transpose(1, 2), attn_weights.unsqueeze(2)\n",
        "        ).squeeze(2)\n",
        "        return attn_applied, attn_weights\n",
        "\n",
        "    def forward(self, input):\n",
        "        '''\n",
        "        parameter\n",
        "        input: tensor shape of number of sequence of API ID\n",
        "\n",
        "        returns\n",
        "        output: output of one-hot encoded vector.\n",
        "        output.shape == self.output_size (normally 2 for benign and malware)\n",
        "        attn_weight: attention weights\n",
        "        '''\n",
        "        embedded = self.embedding(input) # embedding input\n",
        "        embedded = embedded.permute(1, 0, 2) # (batch_size, num_seq, hidden_size) -> (num_seq, batch_size, hidden_size)\n",
        "\n",
        "        # initialize hidden state and cell\n",
        "        h_0 = torch.zeros(1, len(input), self.hidden_size).cuda()\n",
        "        c_0 = torch.zeros(1, len(input), self.hidden_size).cuda()\n",
        "\n",
        "        lstm_output, (hidden, cell) = self.lstm(embedded, (h_0, c_0))\n",
        "        lstm_output = lstm_output.permute(1, 0, 2) # (num_seq, batch_size, hidden_size) -> (batch_size, num_seq, hidden_size)\n",
        "\n",
        "        attn_applied, attn_weights = self.attention_net(lstm_output, hidden) # apply attention\n",
        "\n",
        "        output = self.out(attn_applied)\n",
        "        output = output.squeeze()\n",
        "        output = self.act(output)\n",
        "\n",
        "        return output, attn_weights\n",
        "\n",
        "    def initHidden(self):\n",
        "        return torch.zroes(1, 1, self.hidden_size, device=device)\n"
      ],
      "execution_count": null,
      "outputs": []
    },
    {
      "cell_type": "markdown",
      "metadata": {
        "id": "QzTO6PlhlOWp"
      },
      "source": [
        "# trainer 함수"
      ]
    },
    {
      "cell_type": "code",
      "metadata": {
        "id": "_f5CRrZO8Afj"
      },
      "source": [
        "\n",
        "def train(model, iterator, optimizer, criterion):\n",
        "    epoch_loss = 0\n",
        "    epoch_acc = 0\n",
        "    num_corrects = 0\n",
        "\n",
        "    model.train()\n",
        "\n",
        "    for batch in iterator:\n",
        "        optimizer.zero_grad()\n",
        "\n",
        "        api, api_length = batch.api\n",
        "\n",
        "        output, attn = model(api)\n",
        "        target = batch.label\n",
        "        target = torch.autograd.Variable(target).long()\n",
        "        if len(batch) == 1:\n",
        "          output = output.unsqueeze(0)\n",
        "        loss = criterion(output, target)\n",
        "        num_corrects = (torch.max(output, 1)[1].view(\n",
        "            target.size()).data == target.data).sum()\n",
        "\n",
        "        acc = torch.true_divide(num_corrects, len(batch))\n",
        "\n",
        "        loss.backward()\n",
        "        optimizer.step()\n",
        "\n",
        "        epoch_loss += loss.item()\n",
        "        epoch_acc += acc.item()\n",
        "\n",
        "    return epoch_loss / len(iterator), epoch_acc / len(iterator)\n"
      ],
      "execution_count": null,
      "outputs": []
    },
    {
      "cell_type": "markdown",
      "metadata": {
        "id": "qkv0oUBulTxq"
      },
      "source": [
        "# evaluate 함수"
      ]
    },
    {
      "cell_type": "code",
      "metadata": {
        "id": "Y_quo8VlFLMN"
      },
      "source": [
        "def evaluate(model, iterator, criterion):\n",
        "    epoch_loss = 0\n",
        "    epoch_acc = 0\n",
        "\n",
        "    model.eval()\n",
        "\n",
        "    with torch.no_grad():\n",
        "        for batch in iterator:\n",
        "            api, api_length = batch.api\n",
        "\n",
        "            predictions, attn = model(api)\n",
        "            predictions = predictions.squeeze()\n",
        "\n",
        "            target = batch.label\n",
        "            target = torch.autograd.Variable(target).long()\n",
        "\n",
        "            if len(batch) == 1:\n",
        "              predictions = predictions.unsqueeze(0)\n",
        "            loss = criterion(predictions, target)\n",
        "            num_corrects = (torch.max(predictions, 1)[1].view(\n",
        "                target.size()).data == target.data).sum()\n",
        "            acc = torch.true_divide(num_corrects, len(batch))\n",
        "\n",
        "            epoch_loss += loss.item()\n",
        "            epoch_acc += acc.item()\n",
        "\n",
        "    return epoch_loss / len(iterator), epoch_acc / len(iterator)"
      ],
      "execution_count": null,
      "outputs": []
    },
    {
      "cell_type": "markdown",
      "metadata": {
        "id": "tDbvjrdLliM9"
      },
      "source": [
        "# 데이터 로드, train"
      ]
    },
    {
      "cell_type": "code",
      "metadata": {
        "id": "E2Dblu9fFHO9",
        "outputId": "50357a9d-9b8e-4941-a539-665aae4f5d84",
        "colab": {
          "base_uri": "https://localhost:8080/"
        }
      },
      "source": [
        "import sys\n",
        "import csv\n",
        "\n",
        "maxInt = sys.maxsize\n",
        "while True:\n",
        "  try:\n",
        "    csv.field_size_limit(maxInt)\n",
        "    break\n",
        "  except OverflowError:\n",
        "    maxInt //= 2\n",
        "\n",
        "API = Field(\n",
        "    sequential=True,\n",
        "    lower=False,\n",
        "    include_lengths=True,\n",
        "    batch_first=True,\n",
        ")\n",
        "LABEL = LabelField()\n",
        "\n",
        "fields = [('api', API), ('label', LABEL)]\n",
        "\n",
        "data = TabularDataset(\n",
        "    path=\"/content/gdrive/My Drive/data/calls.csv\",\n",
        "    format=\"csv\",\n",
        "    fields=fields,\n",
        "    skip_header=True\n",
        ")\n",
        "train_data, valid_data = data.split(split_ratio=0.7)\n",
        "\n",
        "API.build_vocab(train_data, max_size=1000)\n",
        "LABEL.build_vocab(train_data)\n",
        "\n",
        "BATCH_SIZE = 1\n",
        "\n",
        "train_loader, valid_loader = BucketIterator.splits(\n",
        "    (train_data, valid_data),\n",
        "    batch_size = BATCH_SIZE,\n",
        "    sort_key = lambda x: len(x.api),\n",
        "    device = device,\n",
        ")\n",
        "\n",
        "# parameters\n",
        "num_id = len(API.vocab)\n",
        "embedding_size = 100\n",
        "num_hidden_nodes = 16\n",
        "num_output_nodes = 2\n",
        "\n",
        "model = ClassifierWithAttention(\n",
        "    BATCH_SIZE, num_id, embedding_size, num_hidden_nodes, num_output_nodes)\n",
        "\n",
        "optimizer = torch.optim.Adam(model.parameters())\n",
        "criterion = nn.CrossEntropyLoss()\n",
        "\n",
        "model = model.to(device)\n",
        "criterion = criterion.to(device)\n",
        "\n",
        "for epoch in range(5):\n",
        "  train_loss, train_acc = train(model, train_loader, optimizer, criterion)\n",
        "  valid_loss, valid_acc = evaluate(model, valid_loader, criterion)\n",
        "\n",
        "  print(\"epoch {}\".format(epoch+1))\n",
        "  print(f\"\\tTrain Loss: {train_loss:.3f} | Train Acc: {train_acc*100:.2f}%\")\n",
        "  print(f\"\\tValid Loss: {valid_loss:.3f} | Valid Acc: {valid_acc*100:.2f}%\")\n"
      ],
      "execution_count": null,
      "outputs": [
        {
          "output_type": "stream",
          "text": [
            "epoch 1\n",
            "\tTrain Loss: 0.673 | Train Acc: 60.11%\n",
            "\tValid Loss: 0.644 | Valid Acc: 69.74%\n",
            "epoch 2\n",
            "\tTrain Loss: 0.601 | Train Acc: 76.12%\n",
            "\tValid Loss: 0.584 | Valid Acc: 77.63%\n",
            "epoch 3\n",
            "\tTrain Loss: 0.531 | Train Acc: 80.34%\n",
            "\tValid Loss: 0.551 | Valid Acc: 76.32%\n",
            "epoch 4\n",
            "\tTrain Loss: 0.490 | Train Acc: 84.27%\n",
            "\tValid Loss: 0.539 | Valid Acc: 75.66%\n",
            "epoch 5\n",
            "\tTrain Loss: 0.463 | Train Acc: 85.39%\n",
            "\tValid Loss: 0.531 | Valid Acc: 75.66%\n"
          ],
          "name": "stdout"
        }
      ]
    },
    {
      "cell_type": "markdown",
      "metadata": {
        "id": "fckn8xzRlpJf"
      },
      "source": [
        "# 모델 저장"
      ]
    },
    {
      "cell_type": "code",
      "metadata": {
        "id": "deQoVW_N84MO"
      },
      "source": [
        "torch.save(model, \"/content/gdrive/My Drive/data/model.pt\")"
      ],
      "execution_count": null,
      "outputs": []
    },
    {
      "cell_type": "markdown",
      "metadata": {
        "id": "wCr1VnaflsG_"
      },
      "source": [
        "# 예측 함수\n",
        "model과 api_sequence를 입력하여 예측값, attention wieght matrix, 토크나이즈 된 시퀀스 출력"
      ]
    },
    {
      "cell_type": "code",
      "metadata": {
        "id": "FWPvOnnMjhGw"
      },
      "source": [
        "def predict(model, api_sequence):\n",
        "  tokenized = API.preprocess(api_sequence)\n",
        "  indexed = [API.vocab.stoi[t] for t in tokenized]\n",
        "  tensor = torch.LongTensor(indexed).to(device)\n",
        "  tensor = tensor.unsqueeze(1).T\n",
        "  out, atten_weights = model(tensor)\n",
        "  out = F.softmax(out, 0)\n",
        "  prediction = LABEL.vocab.itos[torch.argmax(out)]\n",
        "  return prediction, atten_weights, tokenized\n",
        "  \n",
        "  "
      ],
      "execution_count": null,
      "outputs": []
    },
    {
      "cell_type": "markdown",
      "metadata": {
        "id": "DCKWJ8hYmy01"
      },
      "source": [
        "# Cuckoo Sandbox report parse"
      ]
    },
    {
      "cell_type": "code",
      "metadata": {
        "id": "SKZaHuyl6nc6"
      },
      "source": [
        "# parsing cuckoo report json\n",
        "import json\n",
        "\n",
        "def parse_report_json(filename):\n",
        "  with open(filename, 'r') as f:\n",
        "    data = json.load(f)\n",
        "    calls = []\n",
        "    if data.get(\"behavior\"):\n",
        "      if data[\"behavior\"].get(\"processes\"):\n",
        "        for d in data[\"behavior\"][\"processes\"]:\n",
        "          for call in d[\"calls\"]:\n",
        "            calls.append(call[\"api\"])\n",
        "    return ' '.join(calls)"
      ],
      "execution_count": null,
      "outputs": []
    },
    {
      "cell_type": "markdown",
      "metadata": {
        "id": "-nuz3MuGoUYC"
      },
      "source": [
        "# 임의의 benign file의 예측 결과에서 top 10 attention weight visualization\n"
      ]
    },
    {
      "cell_type": "code",
      "metadata": {
        "id": "H798rIqqUDoB",
        "outputId": "0d5612b8-ed16-4ba5-91fd-ef263eb8aae2",
        "colab": {
          "base_uri": "https://localhost:8080/",
          "height": 380
        }
      },
      "source": [
        "import matplotlib.pyplot as plt\n",
        "import os\n",
        "import random\n",
        "\n",
        "model = torch.load(\"/content/gdrive/My Drive/data/model.pt\")\n",
        "model.eval()\n",
        "\n",
        "# predict: predicted vector\n",
        "# attn: attention weight vector\n",
        "\n",
        "filelist = os.listdir(\"/content/gdrive/Shared drives/Instruction API Sequence/KISA-CISC2017-Malware-2nd/dynamic/0/\")\n",
        "\n",
        "while True:\n",
        "  filename = random.choice(filelist)\n",
        "  if filename[-4:] == 'json':\n",
        "    filename = \"/content/gdrive/Shared drives/Instruction API Sequence/KISA-CISC2017-Malware-2nd/dynamic/0/\" + filename\n",
        "    break\n",
        "benign_api = parse_report_json(filename)\n",
        "\n",
        "prediction, attn, tokenized = predict(model, benign_api)\n",
        "attn = attn.cpu().detach().numpy().squeeze()\n",
        "\n",
        "# attention visualization\n",
        "\n",
        "# attention on api sequence\n",
        "plt.title(prediction)\n",
        "# plt.subplot(1,3,1)\n",
        "# plt.bar(np.arange(len(attn)), attn)\n",
        "\n",
        "# plt.subplot(1,3,2)\n",
        "# plt.xticks(rotation=90)\n",
        "# plt.bar(tokenized, attn, tick_label=tokenized)\n",
        "\n",
        "sort_arg = attn.argsort()\n",
        "sort_arg = sort_arg[::-1]\n",
        "sorted_attn = attn[sort_arg]\n",
        "sorted_api_name = np.array(tokenized)[sort_arg]\n",
        "\n",
        "# plt.subplot(1,3,3)\n",
        "plt.xticks(rotation=90)\n",
        "# top 10 attentions on api calls\n",
        "plt.bar(np.arange(len(sorted_attn[:10])), sorted_attn[:10], tick_label=sorted_api_name[:10])\n",
        "\n"
      ],
      "execution_count": null,
      "outputs": [
        {
          "output_type": "execute_result",
          "data": {
            "text/plain": [
              "<BarContainer object of 10 artists>"
            ]
          },
          "metadata": {
            "tags": []
          },
          "execution_count": 15
        },
        {
          "output_type": "display_data",
          "data": {
            "image/png": "[encoded data removed]",
            "text/plain": [
              "<Figure size 432x288 with 1 Axes>"
            ]
          },
          "metadata": {
            "tags": [],
            "needs_background": "light"
          }
        }
      ]
    },
    {
      "cell_type": "markdown",
      "metadata": {
        "id": "5s5FKtQeon9Y"
      },
      "source": [
        "# 임의의 malware file의 예측 결과에서 top 10 attention weight visualization"
      ]
    },
    {
      "cell_type": "code",
      "metadata": {
        "id": "CPrFyt1Cz0Po",
        "outputId": "83c7d410-ac05-4566-ee1d-d12a0bf153e6",
        "colab": {
          "base_uri": "https://localhost:8080/",
          "height": 388
        }
      },
      "source": [
        "filelist = os.listdir(\"/content/gdrive/Shared drives/Instruction API Sequence/KISA-CISC2017-Malware-2nd/dynamic/1/\")\n",
        "\n",
        "while True:\n",
        "  filename = random.choice(filelist)\n",
        "  if filename[-4:] == 'json':\n",
        "    filename = \"/content/gdrive/Shared drives/Instruction API Sequence/KISA-CISC2017-Malware-2nd/dynamic/1/\" + filename\n",
        "    break\n",
        "malware_api = parse_report_json(filename)\n",
        "prediction, attn, tokenized = predict(model, malware_api)\n",
        "attn = attn.cpu().detach().numpy().squeeze()\n",
        "\n",
        "# attention visualization\n",
        "# attention on api sequence\n",
        "# plt.subplot(3,1,1)\n",
        "plt.title(prediction)\n",
        "# plt.bar(np.arange(len(attn)), attn)\n",
        "\n",
        "# plt.subplot(3,1,2)\n",
        "# plt.xticks(rotation=90)\n",
        "# plt.bar(tokenized, attn, tick_label=tokenized)\n",
        "\n",
        "sort_arg = attn.argsort()\n",
        "sort_arg = sort_arg[::-1]\n",
        "sorted_attn = attn[sort_arg]\n",
        "sorted_api_name = np.array(tokenized)[sort_arg]\n",
        "\n",
        "# plt.subplot(3,1,3)\n",
        "plt.xticks(rotation=90)\n",
        "# top 10 attentions on api calls\n",
        "plt.bar(np.arange(len(sorted_attn[:10])), sorted_attn[:10], tick_label=sorted_api_name[:10])\n"
      ],
      "execution_count": null,
      "outputs": [
        {
          "output_type": "execute_result",
          "data": {
            "text/plain": [
              "<BarContainer object of 10 artists>"
            ]
          },
          "metadata": {
            "tags": []
          },
          "execution_count": 16
        },
        {
          "output_type": "display_data",
          "data": {
            "image/png": "[encoded data removed]",
            "text/plain": [
              "<Figure size 432x288 with 1 Axes>"
            ]
          },
          "metadata": {
            "tags": [],
            "needs_background": "light"
          }
        }
      ]
    },
    {
      "cell_type": "code",
      "metadata": {
        "id": "pB2pHKzUVn0Y"
      },
      "source": [
        "import os\n",
        "\n",
        "PATH = \"/content/gdrive/Shared drives/Instruction API Sequence/KISA-CISC2017-Malware-2nd/dynamic/\"\n",
        "with open(\"/content/gdrive/My Drive/data/final_result.csv\", 'w') as f:\n",
        "  f.write(\"prediction,real_data,attetion_top10\\n\")\n",
        "  for i in range(2):\n",
        "    file_dir = PATH + str(i) + '/'\n",
        "    count = 0\n",
        "    for filename in os.listdir(file_dir):\n",
        "      print('\\r', end='')\n",
        "      print('%.2f'%(count/700*100)+'%', end='')\n",
        "      if filename[-4:] == \"json\":\n",
        "        api_seq = parse_report_json(file_dir+filename)\n",
        "        if len(api_seq) > 0:\n",
        "          prediction, attn, tokenized = predict(model, api_seq)\n",
        "          attn = attn.cpu().detach().numpy().squeeze()\n",
        "          sort_arg = attn.argsort()\n",
        "          sorted_api_name = np.array(tokenized)[sort_arg[::-1]]\n",
        "          f.write(prediction+','+str(i)+','+' '.join(sorted_api_name[:10])+'\\n')\n",
        "          count += 1\n",
        "        if count > 700:\n",
        "          break"
      ],
      "execution_count": null,
      "outputs": []
    }
  ]
}